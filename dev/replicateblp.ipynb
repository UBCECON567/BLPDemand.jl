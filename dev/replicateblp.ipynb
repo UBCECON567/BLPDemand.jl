{
 "cells": [
  {
   "cell_type": "markdown",
   "metadata": {},
   "source": [
    "---\n",
    "title       : \"Assignment: reproducing Berry, Levinsohn, & Pakes (1995)\"\n",
    "subtitle    : \n",
    "author      : Paul Schrimpf\n",
    "date        : `j using Dates; print(Dates.today())`\n",
    "bibliography: \"blp.bib\"\n",
    "link-citations: true\n",
    "options:\n",
    "      out_width : 100%\n",
    "      wrap : true\n",
    "      fig_width : 800\n",
    "      dpi : 192\n",
    "---\n",
    "\n",
    "[![](https://i.creativecommons.org/l/by-sa/4.0/88x31.png)](http://creativecommons.org/licenses/by-sa/4.0/)\n",
    "\n",
    "This work is licensed under a [Creative Commons Attribution-ShareAlike\n",
    "4.0 International\n",
    "License](http://creativecommons.org/licenses/by-sa/4.0/) \n",
    "\n",
    "### About this document\n",
    "\n",
    "This document was created using Weave.jl. The code is available in\n",
    "[on github](https://github.com/UBCECON567/BLPDemand.jl). The same\n",
    "document generates both static webpages and a [jupyter\n",
    "notebook.](replicateblp.ipynb)\n",
    "\n",
    "# Introduction\n",
    "\n",
    "This assigment will attempt to replicate the results of [@berry1995].\n",
    "\n",
    "# Getting started\n",
    "\n",
    "Load the package for this assignment from github."
   ]
  },
  {
   "cell_type": "code",
   "execution_count": 1,
   "metadata": {},
   "outputs": [],
   "source": [
    "using Pkg\n",
    "#Pkg.activate(\".\") # If running on  vse.syzygy.ca, you might need to uncomment this command\n",
    "try\n",
    "  using BLPDemand\n",
    "catch\n",
    "  Pkg.develop(PackageSpec(url=\"https://github.com/UBCECON567/BLPDemand.jl\"))\n",
    "  using BLPDemand\n",
    "end"
   ]
  },
  {
   "cell_type": "markdown",
   "metadata": {},
   "source": [
    "# Problem 1: load and explore the data\n",
    "\n",
    "The data from [@berry1995] is included in the `BLPDemand.jl`\n",
    "package."
   ]
  },
  {
   "cell_type": "code",
   "execution_count": 2,
   "metadata": {},
   "outputs": [],
   "source": [
    "df = data_blp1999()\n",
    "\n",
    "# Optionally, if you like being able to view all your data\n",
    "if (false)\n",
    "  using TableView\n",
    "  if (notusingjupyterorjuno) # this will throw an error. Delete it  or the else branch \n",
    "    using Blink\n",
    "    w = Blink.window()\n",
    "    body!(w, TableView.showtable(df));\n",
    "  else \n",
    "    TableView.showtable(df);\n",
    "  end\n",
    "end"
   ]
  },
  {
   "cell_type": "markdown",
   "metadata": {},
   "source": [
    "Create some tables and figures to explore the data. You may want to\n",
    "reproduce table I and/or II from [@berry1995]."
   ]
  },
  {
   "cell_type": "code",
   "execution_count": 3,
   "metadata": {},
   "outputs": [],
   "source": [
    "# using Plots, DataFramesMeta, StatsPlots # (or whatever)"
   ]
  },
  {
   "cell_type": "markdown",
   "metadata": {},
   "source": [
    "# Problem 2: Logit Demand\n",
    "\n",
    "## Part I\n",
    "Reproduce table III of [@berry1995]. First you'll need to create\n",
    "instruments as in section 5.1 of the paper. The following code should\n",
    "do it."
   ]
  },
  {
   "cell_type": "code",
   "execution_count": 4,
   "metadata": {},
   "outputs": [],
   "source": [
    "using DataFrames\n",
    "# Create instruments (see section 5.1)\n",
    "exog = [:const, :hpwt, :air, :mpd, :space, :mpg, :trend] # not sure that this is correct set of variables\n",
    "function makeinstruments(df, exog)\n",
    "  for z ∈ exog\n",
    "    zown = String(z).*\"_own\"\n",
    "    zother = String(z).*\"_other\"\n",
    "    own=by(df, [:year, :firm_id], z=>sum)\n",
    "    rename!(own, Symbol(z, \"_sum\") => Symbol(z, \"_own\"))\n",
    "    all=by(df, [:year], z=>sum)\n",
    "    rename!(all, Symbol(z, \"_sum\") => Symbol(z, \"_other\"))\n",
    "    df=join(df, own, on = [:year, :firm_id])\n",
    "    df=join(df,all, on = [:year])\n",
    "    df[!,Symbol(z,\"_other\")] .-= df[!,Symbol(z,\"_own\")]\n",
    "    df[!,Symbol(z,\"_own\")] .-= df[!,z]\n",
    "  end\n",
    "  return(df)\n",
    "end\n",
    "df=makeinstruments(df, exog);\n",
    "nothing"
   ]
  },
  {
   "cell_type": "markdown",
   "metadata": {},
   "source": [
    "For the regressions, you should modify the following."
   ]
  },
  {
   "cell_type": "code",
   "execution_count": 5,
   "metadata": {},
   "outputs": [
    {
     "name": "stderr",
     "output_type": "stream",
     "text": [
      "┌ Warning: You are using CUDNN 7.6.5 for CUDA 10.1.0 with CUDA toolkit 10.2.89; these might be incompatible.\n",
      "└ @ CuArrays /home/paul/.julia/packages/CuArrays/1njKF/src/CuArrays.jl:122\n"
     ]
    },
    {
     "name": "stdout",
     "output_type": "stream",
     "text": [
      "\n",
      "--------------------------\n",
      "              logit_depvar\n",
      "              ------------\n",
      "                       (1)\n",
      "--------------------------\n",
      "(Intercept)      -7.283***\n",
      "                   (0.166)\n",
      "hpwt              5.735***\n",
      "                   (0.761)\n",
      "price            -0.215***\n",
      "                   (0.015)\n",
      "--------------------------\n",
      "Estimator               IV\n",
      "--------------------------\n",
      "N                    2,217\n",
      "R2                  -0.236\n",
      "--------------------------\n",
      "\n",
      "\n"
     ]
    }
   ],
   "source": [
    "using FixedEffectModels, RegressionTables\n",
    "col2 = reg(df, @formula(logit_depvar ~ hpwt + (price ~ const_own + const_other + hpwt_own + hpwt_other)))\n",
    "regtable(col2)"
   ]
  },
  {
   "cell_type": "markdown",
   "metadata": {},
   "source": [
    "## Part II\n",
    "Calculate the elasticities of demand implied by the logit\n",
    "model. Report how many own price elasticities have absolute value less\n",
    "than one (inelastic). Why are inelastic demand estimates undesirable?\n",
    "\n",
    "For computing the elastiticities, you could adapt the code from the\n",
    "[BLPDemand.jl\n",
    "docs](https://ubcecon567.github.io/BLPDemand.jl/dev/simulation/#Calculating-Elasticities-1)"
   ]
  },
  {
   "cell_type": "code",
   "execution_count": null,
   "metadata": {},
   "outputs": [],
   "source": []
  },
  {
   "cell_type": "markdown",
   "metadata": {},
   "source": [
    "# Problem 3: Demand Side Estimation\n",
    "\n",
    "Estimate a random coefficients demand model. Report the parameter\n",
    "estimates and standard errors. Use the functions `estimateRCIVlogit`\n",
    "and `varianceRCIVlogit` from BLPDemand.jl. Note that the paper has\n",
    "price enter the model as $\\log(y-p)$, but we lack data on $y$, so just\n",
    "have price enter linearly or log-linearly with a random coefficient."
   ]
  },
  {
   "cell_type": "code",
   "execution_count": 6,
   "metadata": {},
   "outputs": [],
   "source": [
    "# some more data prep. You might want to change\n",
    "df[!,:loghpwt] = log.(df[!,:hpwt])\n",
    "df[!,:logmpg] = log.(df[!,:mpg])\n",
    "df[!,:logspace] = log.(df[!,:space])\n",
    "S = 20\n",
    "xvars = [:price, :const, :hpwt, :air, :mpd, :space]\n",
    "costvars = [:const, :loghpwt, :air, :logmpg, :logspace]\n",
    "dat = BLPData(df, :year, :firm_id, :share, xvars, costvars,\n",
    "              [:const], [:const], # we'll recreate instruments anyway\n",
    "              randn(length(xvars),S ,length(unique(df[!,:year]))) )\n",
    "dat = makeivblp(dat, includeexp=false)\n",
    "\n",
    "using LinearAlgebra: diag, I\n",
    "# now the estimation, you might want to try different options\n",
    "\n",
    "#out=estimateRCIVlogit(dat, method=:NFXP, verbose=true, W=I)\n",
    "#v = varianceRCIVlogit(out.β, out.σ, dat, W=I)\n",
    "#@show [out.β  out.σ]\n",
    "#@show sqrt.(diag(v.Σ))\n",
    "\n",
    "# or make a nicer table as in https://ubcecon567.github.io/BLPDemand.jl/dev/simulation/#Estimation-1"
   ]
  },
  {
   "cell_type": "markdown",
   "metadata": {},
   "source": [
    "# Problem 4: Demand and Supply\n",
    "\n",
    "Estimate the full BLP model. Use the `estimateBLP` and `varianceBLP`\n",
    "functions. See [the\n",
    "docs](https://ubcecon567.github.io/BLPDemand.jl/dev/simulation/#Estimation-1)\n",
    "for example usage. Note that the paper has price enter the model as\n",
    "$\\log(y-p)$, but we lack data on $y$, so just have price enter\n",
    "linearly or log-linearly with a random coefficient."
   ]
  },
  {
   "cell_type": "code",
   "execution_count": null,
   "metadata": {},
   "outputs": [],
   "source": []
  },
  {
   "cell_type": "markdown",
   "metadata": {},
   "source": [
    "# Problem 5: Elasticities\n",
    "\n",
    "Compute price elasticities (with standard errors) based on your estimates. You can adapt the\n",
    "code in [the\n",
    "docs](https://ubcecon567.github.io/BLPDemand.jl/dev/simulation/#Calculating-Elasticities-1)."
   ]
  },
  {
   "cell_type": "code",
   "execution_count": null,
   "metadata": {},
   "outputs": [],
   "source": []
  },
  {
   "cell_type": "markdown",
   "metadata": {},
   "source": [
    "# Problem 6: Merger Simulation\n",
    "\n",
    "This is a more challenging problem with less guidance. Consider it\n",
    "optional.\n",
    "\n",
    "Use your estimates to simulate a merger between firm 11 (Saab, I\n",
    "think) and firm 19 (GM, I think). You can do this by modifying the\n",
    "`simulateBLP` function. Report the effect of the merger on prices. Be\n",
    "sure to include standard errors."
   ]
  }
 ],
 "metadata": {
  "kernelspec": {
   "display_name": "Julia 1.3.1",
   "language": "julia",
   "name": "julia-1.3"
  },
  "language_info": {
   "file_extension": ".jl",
   "mimetype": "application/julia",
   "name": "julia",
   "version": "1.3.1"
  }
 },
 "nbformat": 4,
 "nbformat_minor": 2
}
